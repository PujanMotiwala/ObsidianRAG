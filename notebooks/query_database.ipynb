{
 "cells": [
  {
   "cell_type": "code",
   "execution_count": 1,
   "metadata": {},
   "outputs": [],
   "source": [
    "import argparse\n",
    "# from dataclasses import dataclass\n",
    "from langchain_community.vectorstores import Chroma\n",
    "from langchain_openai import OpenAIEmbeddings, ChatOpenAI\n",
    "from langchain.prompts import ChatPromptTemplate\n",
    "import sys\n",
    "import os"
   ]
  },
  {
   "cell_type": "code",
   "execution_count": 2,
   "metadata": {},
   "outputs": [],
   "source": [
    "CHROMA_PATH = \"chroma\"\n",
    "\n",
    "PROMPT_TEMPLATE = \"\"\"\n",
    "Answer the question based only on the following context:\n",
    "\n",
    "{context}\n",
    "\n",
    "---\n",
    "\n",
    "Answer the question based on the above context: {question}\n",
    "\"\"\""
   ]
  },
  {
   "cell_type": "code",
   "execution_count": 4,
   "metadata": {},
   "outputs": [
    {
     "name": "stdout",
     "output_type": "stream",
     "text": [
      "Human: \n",
      "Answer the question based only on the following context:\n",
      "\n",
      "Definition\n",
      "\n",
      "PyTorch is an open source machine learning and deep learning framework.\n",
      "- PyTorch allows you to manipulate and process data and write machine learning algorithms using Python code.\n",
      "\n",
      "Workflow\n",
      "\n",
      "![[pytorch_workflow.excalidraw.svg]]\n",
      "\n",
      "Importing PyTorch\n",
      "\n",
      "Python\n",
      "import torch\n",
      "torch.__version__\n",
      "\n",
      "---\n",
      "\n",
      "Definition\n",
      "\n",
      "A high level deep learning [[API]] written in python for neural networks. It supports multiple backend neural network computations and makes implementing neural networks easy.\n",
      "\n",
      "![[keras.excalidraw.svg]]\n",
      "\n",
      "---\n",
      "\n",
      "A s/w library created by google to implement large scale ML models and to solve complex numerical problems\n",
      "\n",
      "Notebook: https://colab.research.google.com/github/tensorflow/tfx/blob/master/docs/tutorials/tfx/components_keras.ipynb#scrollTo=FmPftrv0lEQy\n",
      "\n",
      "---\n",
      "\n",
      "Answer the question based on the above context: What is PyTorch ?\n",
      "\n",
      "Response: content='PyTorch is an open source machine learning and deep learning framework that allows manipulation and processing of data and writing machine learning algorithms using Python code.' response_metadata={'token_usage': {'completion_tokens': 29, 'prompt_tokens': 208, 'total_tokens': 237}, 'model_name': 'gpt-3.5-turbo', 'system_fingerprint': None, 'finish_reason': 'stop', 'logprobs': None} id='run-9a5ab5b2-1d14-41a1-84cc-73da248aa02b-0' usage_metadata={'input_tokens': 208, 'output_tokens': 29, 'total_tokens': 237}\n",
      "Sources: ['/users/pujan/documents/my_life/Career/Data Science/07 Deep Learning/03 Frameworks and Libraries/PyTorch.md', '/users/pujan/documents/my_life/Career/Data Science/07 Deep Learning/03 Frameworks and Libraries/Keras.md', '/users/pujan/documents/my_life/Career/Data Science/07 Deep Learning/03 Frameworks and Libraries/TensorFlow.md']\n"
     ]
    }
   ],
   "source": [
    "def main(query_text=None):\n",
    "    if query_text is None:\n",
    "        # Create CLI.\n",
    "        parser = argparse.ArgumentParser()\n",
    "        parser.add_argument(\"query_text\", type=str, help=\"The query text.\")\n",
    "        args = parser.parse_args()\n",
    "        query_text = args.query_text\n",
    "\n",
    "    # Prepare the DB.\n",
    "    embedding_function = OpenAIEmbeddings()\n",
    "    db = Chroma(persist_directory=CHROMA_PATH, embedding_function=embedding_function)\n",
    "\n",
    "    # Search the DB.\n",
    "    results = db.similarity_search_with_relevance_scores(query_text, k=3)\n",
    "    if len(results) == 0 or results[0][1] < 0.7:\n",
    "        print(f\"Unable to find matching results.\")\n",
    "        return\n",
    "\n",
    "    context_text = \"\\n\\n---\\n\\n\".join([doc.page_content for doc, _score in results])\n",
    "    prompt_template = ChatPromptTemplate.from_template(PROMPT_TEMPLATE)\n",
    "    prompt = prompt_template.format(context=context_text, question=query_text)\n",
    "    print(prompt)\n",
    "\n",
    "    model = ChatOpenAI()\n",
    "    response_text = model.invoke(prompt) #model.predict(prompt)\n",
    "\n",
    "    sources = [doc.metadata.get(\"source\", None) for doc, _score in results]\n",
    "    formatted_response = f\"Response: {response_text}\\nSources: {sources}\"\n",
    "    print(formatted_response)\n",
    "\n",
    "if __name__ == \"__main__\":\n",
    "    if \"ipykernel_launcher\" in sys.argv[0]:\n",
    "        # Fallback for interactive environment like Jupyter Notebook\n",
    "        query_text = \"What is PyTorch ?\"\n",
    "        main(query_text=query_text)\n",
    "    else:\n",
    "        main()"
   ]
  }
 ],
 "metadata": {
  "kernelspec": {
   "display_name": "Python 3",
   "language": "python",
   "name": "python3"
  },
  "language_info": {
   "codemirror_mode": {
    "name": "ipython",
    "version": 3
   },
   "file_extension": ".py",
   "mimetype": "text/x-python",
   "name": "python",
   "nbconvert_exporter": "python",
   "pygments_lexer": "ipython3",
   "version": "3.10.10"
  }
 },
 "nbformat": 4,
 "nbformat_minor": 2
}
